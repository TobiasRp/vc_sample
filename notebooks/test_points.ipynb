{
 "cells": [
  {
   "cell_type": "code",
   "execution_count": 2,
   "id": "disturbed-edinburgh",
   "metadata": {},
   "outputs": [],
   "source": [
    "import numpy as np\n",
    "import matplotlib.pyplot as plt"
   ]
  },
  {
   "cell_type": "code",
   "execution_count": 128,
   "id": "comfortable-disney",
   "metadata": {},
   "outputs": [],
   "source": [
    "from vc_sample.density_estimation import KernelDensityEstimator, Kernel, epanechnikov\n",
    "from vc_sample.void_and_cluster import VoidAndCluster"
   ]
  },
  {
   "cell_type": "code",
   "execution_count": 3,
   "id": "relevant-college",
   "metadata": {},
   "outputs": [],
   "source": [
    "%matplotlib inline\n",
    "%load_ext autoreload\n",
    "%autoreload 2"
   ]
  },
  {
   "cell_type": "code",
   "execution_count": 17,
   "id": "linear-dress",
   "metadata": {},
   "outputs": [],
   "source": [
    "xs = np.linspace(0.0, 10.0, 100)\n",
    "points = xs.reshape(-1, 1)"
   ]
  },
  {
   "cell_type": "code",
   "execution_count": 22,
   "id": "grand-tyler",
   "metadata": {},
   "outputs": [
    {
     "data": {
      "image/png": "[encoded data removed]",
      "text/plain": [
       "<Figure size 432x288 with 1 Axes>"
      ]
     },
     "metadata": {
      "needs_background": "light"
     },
     "output_type": "display_data"
    }
   ],
   "source": [
    "plt.hist(xs);"
   ]
  },
  {
   "cell_type": "code",
   "execution_count": 31,
   "id": "obvious-chain",
   "metadata": {},
   "outputs": [],
   "source": [
    "density_estimator = KernelDensityEstimator(points)\n",
    "vc = VoidAndCluster(points, density_estimator, num_initial_samples=10)\n",
    "\n",
    "samples = vc.sample(size=10)"
   ]
  },
  {
   "cell_type": "code",
   "execution_count": 32,
   "id": "heard-express",
   "metadata": {},
   "outputs": [
    {
     "data": {
      "image/png": "[encoded data removed]",
      "text/plain": [
       "<Figure size 432x288 with 1 Axes>"
      ]
     },
     "metadata": {
      "needs_background": "light"
     },
     "output_type": "display_data"
    }
   ],
   "source": [
    "plt.hist(samples);"
   ]
  },
  {
   "cell_type": "code",
   "execution_count": 33,
   "id": "impressive-diabetes",
   "metadata": {},
   "outputs": [
    {
     "data": {
      "image/png": "[encoded data removed]",
      "text/plain": [
       "<Figure size 432x288 with 1 Axes>"
      ]
     },
     "metadata": {
      "needs_background": "light"
     },
     "output_type": "display_data"
    }
   ],
   "source": [
    "random_samples = np.random.choice(xs, replace=False, size=10)\n",
    "\n",
    "plt.hist(random_samples);"
   ]
  },
  {
   "cell_type": "markdown",
   "id": "whole-malta",
   "metadata": {},
   "source": [
    "## 2D"
   ]
  },
  {
   "cell_type": "code",
   "execution_count": 135,
   "id": "macro-brave",
   "metadata": {},
   "outputs": [],
   "source": [
    "x_ = np.linspace(0., 1., 20)\n",
    "y_ = np.linspace(0., 1., 20)\n",
    "\n",
    "x, y = np.meshgrid(x_, y_, indexing='ij')\n",
    "points = np.stack([x.flatten(), y.flatten()]).T"
   ]
  },
  {
   "cell_type": "code",
   "execution_count": 143,
   "id": "applicable-traffic",
   "metadata": {},
   "outputs": [],
   "source": [
    "density_estimator = KernelDensityEstimator(points, Kernel(epanechnikov, scale=0.15))\n",
    "vc = VoidAndCluster(points, density_estimator, num_initial_samples=10)\n",
    "\n",
    "samples = vc.sample(size=50)"
   ]
  },
  {
   "cell_type": "code",
   "execution_count": 144,
   "id": "boxed-jewelry",
   "metadata": {},
   "outputs": [
    {
     "data": {
      "image/png": "[encoded data removed]",
      "text/plain": [
       "<Figure size 432x288 with 1 Axes>"
      ]
     },
     "metadata": {
      "needs_background": "light"
     },
     "output_type": "display_data"
    }
   ],
   "source": [
    "plt.scatter(x=points[:,0], y=points[:,1]);"
   ]
  },
  {
   "cell_type": "code",
   "execution_count": 145,
   "id": "tribal-malawi",
   "metadata": {},
   "outputs": [
    {
     "data": {
      "image/png": "[encoded data removed]",
      "text/plain": [
       "<Figure size 432x288 with 1 Axes>"
      ]
     },
     "metadata": {
      "needs_background": "light"
     },
     "output_type": "display_data"
    }
   ],
   "source": [
    "plt.scatter(x=samples[:,0], y=samples[:,1]);"
   ]
  },
  {
   "cell_type": "code",
   "execution_count": 110,
   "id": "urban-savage",
   "metadata": {},
   "outputs": [],
   "source": []
  }
 ],
 "metadata": {
  "kernelspec": {
   "display_name": "Python 3",
   "language": "python",
   "name": "python3"
  },
  "language_info": {
   "codemirror_mode": {
    "name": "ipython",
    "version": 3
   },
   "file_extension": ".py",
   "mimetype": "text/x-python",
   "name": "python",
   "nbconvert_exporter": "python",
   "pygments_lexer": "ipython3",
   "version": "3.8.5"
  }
 },
 "nbformat": 4,
 "nbformat_minor": 5
}

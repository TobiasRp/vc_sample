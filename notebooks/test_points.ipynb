{
 "cells": [
  {
   "cell_type": "code",
   "execution_count": 1,
   "id": "interracial-english",
   "metadata": {},
   "outputs": [],
   "source": [
    "import numpy as np\n",
    "import matplotlib.pyplot as plt"
   ]
  },
  {
   "cell_type": "code",
   "execution_count": 2,
   "id": "documentary-reason",
   "metadata": {},
   "outputs": [],
   "source": [
    "from vc_sample.density_estimation import KernelDensityEstimator, Kernel, epanechnikov, kernel_scale_factor\n",
    "from vc_sample.void_and_cluster import VoidAndCluster"
   ]
  },
  {
   "cell_type": "code",
   "execution_count": 24,
   "id": "pressed-notification",
   "metadata": {},
   "outputs": [
    {
     "name": "stdout",
     "output_type": "stream",
     "text": [
      "The autoreload extension is already loaded. To reload it, use:\n",
      "  %reload_ext autoreload\n"
     ]
    }
   ],
   "source": [
    "%matplotlib inline\n",
    "%load_ext autoreload\n",
    "%autoreload 2"
   ]
  },
  {
   "cell_type": "code",
   "execution_count": 25,
   "id": "liquid-nightlife",
   "metadata": {},
   "outputs": [],
   "source": [
    "xs = np.linspace(0.0, 10.0, 100)\n",
    "points = xs.reshape(-1, 1)"
   ]
  },
  {
   "cell_type": "code",
   "execution_count": 26,
   "id": "terminal-selection",
   "metadata": {},
   "outputs": [
    {
     "data": {
      "image/png": "[encoded data removed]",
      "text/plain": [
       "<Figure size 432x288 with 1 Axes>"
      ]
     },
     "metadata": {
      "needs_background": "light"
     },
     "output_type": "display_data"
    }
   ],
   "source": [
    "plt.hist(xs);"
   ]
  },
  {
   "cell_type": "code",
   "execution_count": 43,
   "id": "statewide-mexico",
   "metadata": {},
   "outputs": [
    {
     "data": {
      "text/plain": [
       "1.0"
      ]
     },
     "execution_count": 43,
     "metadata": {},
     "output_type": "execute_result"
    }
   ],
   "source": [
    "num_samples = 30\n",
    "\n",
    "kernel_scale1d = 0.3 * kernel_scale_factor(dimensionality=1, num_points=100, num_samples=num_samples)\n",
    "kernel_scale1d"
   ]
  },
  {
   "cell_type": "code",
   "execution_count": 44,
   "id": "duplicate-capability",
   "metadata": {},
   "outputs": [],
   "source": [
    "density_estimator = KernelDensityEstimator(points, Kernel(epanechnikov, scale=kernel_scale1d))\n",
    "vc = VoidAndCluster(points, density_estimator, num_initial_samples=10)\n",
    "\n",
    "samples = vc.sample(size=num_samples)"
   ]
  },
  {
   "cell_type": "code",
   "execution_count": 45,
   "id": "medical-incident",
   "metadata": {},
   "outputs": [
    {
     "data": {
      "image/png": "[encoded data removed]",
      "text/plain": [
       "<Figure size 432x288 with 1 Axes>"
      ]
     },
     "metadata": {
      "needs_background": "light"
     },
     "output_type": "display_data"
    }
   ],
   "source": [
    "plt.hist(samples);"
   ]
  },
  {
   "cell_type": "code",
   "execution_count": 46,
   "id": "bacterial-keyboard",
   "metadata": {},
   "outputs": [
    {
     "data": {
      "image/png": "[encoded data removed]",
      "text/plain": [
       "<Figure size 432x288 with 1 Axes>"
      ]
     },
     "metadata": {
      "needs_background": "light"
     },
     "output_type": "display_data"
    }
   ],
   "source": [
    "random_samples = np.random.choice(xs, replace=False, size=10)\n",
    "\n",
    "plt.hist(random_samples);"
   ]
  },
  {
   "cell_type": "markdown",
   "id": "characteristic-district",
   "metadata": {},
   "source": [
    "## 2D"
   ]
  },
  {
   "cell_type": "code",
   "execution_count": 47,
   "id": "compound-linux",
   "metadata": {},
   "outputs": [],
   "source": [
    "x_ = np.linspace(0., 1., 20)\n",
    "y_ = np.linspace(0., 1., 20)\n",
    "\n",
    "x, y = np.meshgrid(x_, y_, indexing='ij')\n",
    "points = np.stack([x.flatten(), y.flatten()]).T"
   ]
  },
  {
   "cell_type": "code",
   "execution_count": 48,
   "id": "offensive-ribbon",
   "metadata": {},
   "outputs": [
    {
     "data": {
      "text/plain": [
       "0.1"
      ]
     },
     "execution_count": 48,
     "metadata": {},
     "output_type": "execute_result"
    }
   ],
   "source": [
    "kernel_bandwidth = 0.05 * kernel_scale_factor(dimensionality=2, num_points=20**2, num_samples=100)\n",
    "kernel_bandwidth"
   ]
  },
  {
   "cell_type": "code",
   "execution_count": 49,
   "id": "honey-registration",
   "metadata": {},
   "outputs": [],
   "source": [
    "density_estimator = KernelDensityEstimator(points, Kernel(epanechnikov, scale=kernel_bandwidth))\n",
    "vc = VoidAndCluster(points, density_estimator, num_initial_samples=10)\n",
    "\n",
    "samples = vc.sample(size=100)"
   ]
  },
  {
   "cell_type": "code",
   "execution_count": 50,
   "id": "disciplinary-actor",
   "metadata": {},
   "outputs": [
    {
     "data": {
      "image/png": "[encoded data removed]",
      "text/plain": [
       "<Figure size 432x288 with 1 Axes>"
      ]
     },
     "metadata": {
      "needs_background": "light"
     },
     "output_type": "display_data"
    }
   ],
   "source": [
    "plt.scatter(x=points[:,0], y=points[:,1]);"
   ]
  },
  {
   "cell_type": "code",
   "execution_count": 51,
   "id": "romantic-david",
   "metadata": {},
   "outputs": [
    {
     "data": {
      "image/png": "[encoded data removed]",
      "text/plain": [
       "<Figure size 432x288 with 1 Axes>"
      ]
     },
     "metadata": {
      "needs_background": "light"
     },
     "output_type": "display_data"
    }
   ],
   "source": [
    "plt.scatter(x=samples[:,0], y=samples[:,1]);"
   ]
  }
 ],
 "metadata": {
  "kernelspec": {
   "display_name": "Python 3",
   "language": "python",
   "name": "python3"
  },
  "language_info": {
   "codemirror_mode": {
    "name": "ipython",
    "version": 3
   },
   "file_extension": ".py",
   "mimetype": "text/x-python",
   "name": "python",
   "nbconvert_exporter": "python",
   "pygments_lexer": "ipython3",
   "version": "3.8.5"
  }
 },
 "nbformat": 4,
 "nbformat_minor": 5
}
